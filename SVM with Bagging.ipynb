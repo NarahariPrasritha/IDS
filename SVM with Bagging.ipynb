{
 "cells": [
  {
   "cell_type": "code",
   "execution_count": 1,
   "id": "aa364f16",
   "metadata": {},
   "outputs": [
    {
     "name": "stdout",
     "output_type": "stream",
     "text": [
      "Shape of X_train: (9086, 10)\n",
      "Shape of X_test: (2272, 10)\n",
      "Shape of y_train: (9086,)\n",
      "Shape of y_test: (2272,)\n",
      "SVM AND BAGGING\n",
      "Accuracy: 0.8776408450704225\n",
      "Precision: 0.8806941766058681\n",
      "Recall: 0.8776408450704225\n",
      "F1-score: 0.8776631271685158\n"
     ]
    }
   ],
   "source": [
    "# Import necessary libraries\n",
    "import numpy as np\n",
    "import pandas as pd\n",
    "from sklearn.model_selection import train_test_split\n",
    "from sklearn.preprocessing import StandardScaler\n",
    "from sklearn.ensemble import BaggingClassifier\n",
    "from sklearn.svm import SVC\n",
    "from sklearn.metrics import accuracy_score, precision_score, recall_score, f1_score\n",
    "\n",
    "# Load your dataset\n",
    "# Replace 'your_dataset.csv' with the path to your dataset file\n",
    "data = pd.read_csv('UNSW_NB15_no_outliers.csv')\n",
    "\n",
    "# Assuming you already have a subset of selected features in a list called 'selected_features'\n",
    "selected_features = ['rate', 'dttl', 'dload', 'swin', 'dwin', 'ct_srv_src', 'ct_state_ttl', 'ct_dst_ltm', 'ct_dst_src_ltm', 'ct_srv_dst']  # Example list of selected features\n",
    "\n",
    "X = data[selected_features]  # Features\n",
    "y = data['label']  # Target variable\n",
    "\n",
    "# Split the dataset into training and testing sets\n",
    "X_train, X_test, y_train, y_test = train_test_split(X, y, test_size=0.2, random_state=42)\n",
    "print(\"Shape of X_train:\", X_train.shape)\n",
    "print(\"Shape of X_test:\", X_test.shape)\n",
    "print(\"Shape of y_train:\", y_train.shape)\n",
    "print(\"Shape of y_test:\", y_test.shape)\n",
    "\n",
    "# Feature scaling for better performance\n",
    "sc = StandardScaler()\n",
    "X_train = sc.fit_transform(X_train)\n",
    "X_test = sc.transform(X_test)\n",
    "\n",
    "# Initialize the SVM classifier\n",
    "base_classifier = SVC(kernel='linear', random_state=42)\n",
    "\n",
    "# Initialize the Bagging classifier with SVM as the base estimator\n",
    "ensemble_classifier = BaggingClassifier(base_classifier, n_estimators=10, random_state=42)\n",
    "\n",
    "# Train the ensemble classifier\n",
    "ensemble_classifier.fit(X_train, y_train)\n",
    "\n",
    "# Predict the test set results\n",
    "y_pred = ensemble_classifier.predict(X_test)\n",
    "print(\"SVM AND BAGGING\")\n",
    "# Calculate accuracy\n",
    "accuracy = accuracy_score(y_test, y_pred)\n",
    "print(\"Accuracy:\", accuracy)\n",
    "\n",
    "# Calculate precision\n",
    "precision = precision_score(y_test, y_pred, average='weighted')\n",
    "print(\"Precision:\", precision)\n",
    "\n",
    "# Calculate recall\n",
    "recall = recall_score(y_test, y_pred, average='weighted')\n",
    "print(\"Recall:\", recall)\n",
    "\n",
    "# Calculate F1-score\n",
    "f1 = f1_score(y_test, y_pred, average='weighted')\n",
    "print(\"F1-score:\", f1)"
   ]
  },
  {
   "cell_type": "code",
   "execution_count": 2,
   "id": "b9edc148",
   "metadata": {},
   "outputs": [
    {
     "name": "stdout",
     "output_type": "stream",
     "text": [
      "Model saved successfully as svm_bagging_model.pkl\n"
     ]
    }
   ],
   "source": [
    "import joblib\n",
    "\n",
    "# Define the file path where you want to save the model\n",
    "file_path = 'svm_bagging_model.pkl'\n",
    "\n",
    "# Save the trained Bagging classifier to a .pkl file\n",
    "joblib.dump(ensemble_classifier, file_path)\n",
    "\n",
    "print(\"Model saved successfully as\", file_path)"
   ]
  },
  {
   "cell_type": "code",
   "execution_count": null,
   "id": "e118cb9b",
   "metadata": {},
   "outputs": [],
   "source": []
  }
 ],
 "metadata": {
  "kernelspec": {
   "display_name": "Python 3 (ipykernel)",
   "language": "python",
   "name": "python3"
  },
  "language_info": {
   "codemirror_mode": {
    "name": "ipython",
    "version": 3
   },
   "file_extension": ".py",
   "mimetype": "text/x-python",
   "name": "python",
   "nbconvert_exporter": "python",
   "pygments_lexer": "ipython3",
   "version": "3.11.5"
  }
 },
 "nbformat": 4,
 "nbformat_minor": 5
}
