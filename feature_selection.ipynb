{
 "cells": [
  {
   "cell_type": "code",
   "execution_count": 7,
   "id": "1e1ab028",
   "metadata": {},
   "outputs": [
    {
     "name": "stdout",
     "output_type": "stream",
     "text": [
      "Dataset shape: (11358, 44)\n",
      "First few rows of the dataset:\n",
      "        dur proto service state  spkts  dpkts  sbytes  dbytes       rate  \\\n",
      "0  0.714182   tcp     dns   FIN     10      6     534     268  21.003049   \n",
      "1  0.757295   tcp     dns   FIN     10      6     534     268  19.807340   \n",
      "2  0.759306   tcp     dns   FIN     10      8     534     354  22.388865   \n",
      "3  0.624048   tcp     dns   FIN     10      6     534     268  24.036613   \n",
      "4  0.655618   tcp     dns   FIN     10      6     534     268  22.879176   \n",
      "\n",
      "   sttl  ...  ct_dst_sport_ltm  ct_dst_src_ltm  is_ftp_login  ct_ftp_cmd  \\\n",
      "0   254  ...                 1               2             0           0   \n",
      "1   254  ...                 1               2             0           0   \n",
      "2   254  ...                 1               3             0           0   \n",
      "3   254  ...                 1               3             0           0   \n",
      "4   254  ...                 1               2             0           0   \n",
      "\n",
      "   ct_flw_http_mthd  ct_src_ltm  ct_srv_dst  is_sm_ips_ports  attack_cat  \\\n",
      "0                 0           2           2                0      Normal   \n",
      "1                 0           1           2                0      Normal   \n",
      "2                 0           1           3                0      Normal   \n",
      "3                 0           1           3                0      Normal   \n",
      "4                 0           1           2                0      Normal   \n",
      "\n",
      "   label  \n",
      "0      0  \n",
      "1      0  \n",
      "2      0  \n",
      "3      0  \n",
      "4      0  \n",
      "\n",
      "[5 rows x 44 columns]\n"
     ]
    }
   ],
   "source": [
    "import pandas as pd\n",
    "\n",
    "# Load the dataset\n",
    "data = pd.read_csv('UNSW_NB15_no_outliers.csv')  # Replace 'your_dataset.csv' with the path to your dataset file\n",
    "\n",
    "# Display basic information about the dataset\n",
    "print(\"Dataset shape:\", data.shape)\n",
    "print(\"First few rows of the dataset:\")\n",
    "print(data.head())"
   ]
  },
  {
   "cell_type": "code",
   "execution_count": 10,
   "id": "ea27b0a7",
   "metadata": {},
   "outputs": [
    {
     "name": "stdout",
     "output_type": "stream",
     "text": [
      "Indices of selected features: [ 5  7  9 16 19 27 28 29 32 37]\n",
      "Selected Features:\n",
      "Index(['rate', 'dttl', 'dload', 'swin', 'dwin', 'ct_srv_src', 'ct_state_ttl',\n",
      "       'ct_dst_ltm', 'ct_dst_src_ltm', 'ct_srv_dst'],\n",
      "      dtype='object')\n"
     ]
    },
    {
     "name": "stderr",
     "output_type": "stream",
     "text": [
      "C:\\Users\\prasr\\anaconda3\\Lib\\site-packages\\sklearn\\feature_selection\\_univariate_selection.py:112: UserWarning: Features [25 26 31 33 34 35 38] are constant.\n",
      "  warnings.warn(\"Features %s are constant.\" % constant_features_idx, UserWarning)\n",
      "C:\\Users\\prasr\\anaconda3\\Lib\\site-packages\\sklearn\\feature_selection\\_univariate_selection.py:113: RuntimeWarning: invalid value encountered in divide\n",
      "  f = msb / msw\n"
     ]
    }
   ],
   "source": [
    "import pandas as pd\n",
    "from sklearn.feature_selection import SelectKBest, f_classif\n",
    "from sklearn.model_selection import train_test_split\n",
    "from sklearn.preprocessing import StandardScaler\n",
    "\n",
    "# Load the dataset\n",
    "\n",
    "# Separate numerical features\n",
    "numerical_features = data.select_dtypes(include=['float64', 'int64'])\n",
    "\n",
    "# Separate features and target\n",
    "X = numerical_features.drop(columns=['label'])  # Exclude the target column from features\n",
    "y = data['label']  # Target column\n",
    "\n",
    "# Split the data into training and testing sets\n",
    "X_train, X_test, y_train, y_test = train_test_split(X, y, test_size=0.2, random_state=42)\n",
    "\n",
    "# Standardize numerical features\n",
    "scaler = StandardScaler()\n",
    "X_train_scaled = scaler.fit_transform(X_train)\n",
    "X_test_scaled = scaler.transform(X_test)\n",
    "\n",
    "# Perform feature selection using SelectKBest with ANOVA F-value\n",
    "selector = SelectKBest(score_func=f_classif, k=10)  # Select top 10 features\n",
    "X_train_selected = selector.fit_transform(X_train_scaled, y_train)\n",
    "X_test_selected = selector.transform(X_test_scaled)\n",
    "\n",
    "# Print the selected feature indices\n",
    "selected_feature_indices = selector.get_support(indices=True)\n",
    "print(\"Indices of selected features:\", selected_feature_indices)\n",
    "\n",
    "# Print the names of selected features\n",
    "selected_features = X.columns[selected_feature_indices]\n",
    "print(\"Selected Features:\")\n",
    "print(selected_features)\n"
   ]
  },
  {
   "cell_type": "code",
   "execution_count": 12,
   "id": "f34c80bd",
   "metadata": {},
   "outputs": [
    {
     "name": "stdout",
     "output_type": "stream",
     "text": [
      "Indices of constant features: Index(['trans_depth', 'response_body_len', 'ct_dst_sport_ltm', 'is_ftp_login',\n",
      "       'ct_ftp_cmd', 'ct_flw_http_mthd', 'is_sm_ips_ports'],\n",
      "      dtype='object')\n",
      "Names of constant features:\n",
      "trans_depth\n",
      "response_body_len\n",
      "ct_dst_sport_ltm\n",
      "is_ftp_login\n",
      "ct_ftp_cmd\n",
      "ct_flw_http_mthd\n",
      "is_sm_ips_ports\n"
     ]
    }
   ],
   "source": [
    "import pandas as pd\n",
    "\n",
    "# Load the dataset\n",
    "\n",
    "# Filter out non-numeric columns\n",
    "numerical_data = data.select_dtypes(include=['float64', 'int64'])\n",
    "\n",
    "# Calculate the standard deviation for each numerical feature\n",
    "std_deviation = numerical_data.std()\n",
    "\n",
    "# Get the indices of constant features (where standard deviation is close to zero)\n",
    "constant_feature_indices = std_deviation[std_deviation < 1e-6].index\n",
    "\n",
    "# Print the indices and names of constant features\n",
    "print(\"Indices of constant features:\", constant_feature_indices)\n",
    "print(\"Names of constant features:\")\n",
    "for feature_index in constant_feature_indices:\n",
    "    print(feature_index)\n"
   ]
  },
  {
   "cell_type": "code",
   "execution_count": 15,
   "id": "ec79e787",
   "metadata": {},
   "outputs": [
    {
     "name": "stdout",
     "output_type": "stream",
     "text": [
      "Selected Features:\n",
      "rate\n",
      "dttl\n",
      "dload\n",
      "swin\n",
      "dwin\n",
      "ct_srv_src\n",
      "ct_state_ttl\n",
      "ct_dst_ltm\n",
      "ct_dst_src_ltm\n",
      "ct_srv_dst\n"
     ]
    }
   ],
   "source": [
    "import pandas as pd\n",
    "from sklearn.model_selection import train_test_split\n",
    "from sklearn.feature_selection import SelectKBest, f_classif\n",
    "\n",
    "# Load the dataset\n",
    "# Assuming 'data' is your DataFrame containing the dataset\n",
    "# data = pd.read_csv('your_dataset.csv')\n",
    "\n",
    "# Filter out non-numeric columns\n",
    "numerical_data = data.select_dtypes(include=['float64', 'int64'])\n",
    "\n",
    "# Filter out constant features\n",
    "std_deviation = numerical_data.std()\n",
    "constant_feature_indices = std_deviation[std_deviation < 1e-6].index\n",
    "numerical_data_filtered = numerical_data.drop(columns=constant_feature_indices)\n",
    "\n",
    "# Split data into features and target\n",
    "X = numerical_data_filtered.drop(columns=['label'])  # Features\n",
    "y = numerical_data_filtered['label']  # Target\n",
    "\n",
    "# Split data into training and testing sets\n",
    "X_train, X_test, y_train, y_test = train_test_split(X, y, test_size=0.2, random_state=42)\n",
    "\n",
    "# Perform feature selection using SelectKBest with ANOVA F-value\n",
    "selector = SelectKBest(score_func=f_classif, k=10)  # Select top 10 features\n",
    "X_train_selected = selector.fit_transform(X_train, y_train)\n",
    "X_test_selected = selector.transform(X_test)\n",
    "\n",
    "# Get indices of selected features\n",
    "selected_feature_indices = selector.get_support(indices=True)\n",
    "\n",
    "# Get names of selected features\n",
    "selected_features = X.columns[selected_feature_indices]\n",
    "\n",
    "# Print names of selected features\n",
    "print(\"Selected Features:\")\n",
    "for feature in selected_features:\n",
    "    print(feature)\n"
   ]
  },
  {
   "cell_type": "code",
   "execution_count": 16,
   "id": "3fb2fd16",
   "metadata": {},
   "outputs": [
    {
     "name": "stdout",
     "output_type": "stream",
     "text": [
      "Shape of the training data (X_train, y_train): (9086, 32) (9086,)\n",
      "Shape of the testing data (X_test, y_test): (2272, 32) (2272,)\n"
     ]
    }
   ],
   "source": [
    "# Print the shape of the splitted data\n",
    "print(\"Shape of the training data (X_train, y_train):\", X_train.shape, y_train.shape)\n",
    "print(\"Shape of the testing data (X_test, y_test):\", X_test.shape, y_test.shape)"
   ]
  },
  {
   "cell_type": "code",
   "execution_count": null,
   "id": "def27253",
   "metadata": {},
   "outputs": [],
   "source": []
  }
 ],
 "metadata": {
  "kernelspec": {
   "display_name": "Python 3 (ipykernel)",
   "language": "python",
   "name": "python3"
  },
  "language_info": {
   "codemirror_mode": {
    "name": "ipython",
    "version": 3
   },
   "file_extension": ".py",
   "mimetype": "text/x-python",
   "name": "python",
   "nbconvert_exporter": "python",
   "pygments_lexer": "ipython3",
   "version": "3.11.5"
  }
 },
 "nbformat": 4,
 "nbformat_minor": 5
}
